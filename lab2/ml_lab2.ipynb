{
 "cells": [
  {
   "cell_type": "markdown",
   "metadata": {},
   "source": [
    "# Лабораторная работа 2\n",
    "## Деревья"
   ]
  },
  {
   "cell_type": "markdown",
   "metadata": {},
   "source": [
    "Попробуем реализовать деревянные модели и применить их к набору данных, рассматренному в нулевой работе.\n",
    "\n",
    "Напомню, что мы решаем задачу выявления пациентов с высоким риском сердечного приступа."
   ]
  },
  {
   "cell_type": "markdown",
   "metadata": {},
   "source": [
    "### Подготовка данных"
   ]
  },
  {
   "cell_type": "code",
   "execution_count": 71,
   "metadata": {},
   "outputs": [],
   "source": [
    "import pandas as pd\n",
    "import pickle\n",
    "import random"
   ]
  },
  {
   "cell_type": "code",
   "execution_count": 2,
   "metadata": {},
   "outputs": [],
   "source": [
    "df = pd.read_csv('heart_disease_health_indicators_BRFSS2015.csv')"
   ]
  },
  {
   "cell_type": "code",
   "execution_count": 3,
   "metadata": {},
   "outputs": [
    {
     "data": {
      "text/html": [
       "<div>\n",
       "<style scoped>\n",
       "    .dataframe tbody tr th:only-of-type {\n",
       "        vertical-align: middle;\n",
       "    }\n",
       "\n",
       "    .dataframe tbody tr th {\n",
       "        vertical-align: top;\n",
       "    }\n",
       "\n",
       "    .dataframe thead th {\n",
       "        text-align: right;\n",
       "    }\n",
       "</style>\n",
       "<table border=\"1\" class=\"dataframe\">\n",
       "  <thead>\n",
       "    <tr style=\"text-align: right;\">\n",
       "      <th></th>\n",
       "      <th>HeartDiseaseorAttack</th>\n",
       "      <th>HighBP</th>\n",
       "      <th>HighChol</th>\n",
       "      <th>CholCheck</th>\n",
       "      <th>BMI</th>\n",
       "      <th>Smoker</th>\n",
       "      <th>Stroke</th>\n",
       "      <th>Diabetes</th>\n",
       "      <th>PhysActivity</th>\n",
       "      <th>Fruits</th>\n",
       "      <th>...</th>\n",
       "      <th>AnyHealthcare</th>\n",
       "      <th>NoDocbcCost</th>\n",
       "      <th>GenHlth</th>\n",
       "      <th>MentHlth</th>\n",
       "      <th>PhysHlth</th>\n",
       "      <th>DiffWalk</th>\n",
       "      <th>Sex</th>\n",
       "      <th>Age</th>\n",
       "      <th>Education</th>\n",
       "      <th>Income</th>\n",
       "    </tr>\n",
       "  </thead>\n",
       "  <tbody>\n",
       "    <tr>\n",
       "      <th>0</th>\n",
       "      <td>0.0</td>\n",
       "      <td>1.0</td>\n",
       "      <td>1.0</td>\n",
       "      <td>1.0</td>\n",
       "      <td>40.0</td>\n",
       "      <td>1.0</td>\n",
       "      <td>0.0</td>\n",
       "      <td>0.0</td>\n",
       "      <td>0.0</td>\n",
       "      <td>0.0</td>\n",
       "      <td>...</td>\n",
       "      <td>1.0</td>\n",
       "      <td>0.0</td>\n",
       "      <td>5.0</td>\n",
       "      <td>18.0</td>\n",
       "      <td>15.0</td>\n",
       "      <td>1.0</td>\n",
       "      <td>0.0</td>\n",
       "      <td>9.0</td>\n",
       "      <td>4.0</td>\n",
       "      <td>3.0</td>\n",
       "    </tr>\n",
       "    <tr>\n",
       "      <th>1</th>\n",
       "      <td>0.0</td>\n",
       "      <td>0.0</td>\n",
       "      <td>0.0</td>\n",
       "      <td>0.0</td>\n",
       "      <td>25.0</td>\n",
       "      <td>1.0</td>\n",
       "      <td>0.0</td>\n",
       "      <td>0.0</td>\n",
       "      <td>1.0</td>\n",
       "      <td>0.0</td>\n",
       "      <td>...</td>\n",
       "      <td>0.0</td>\n",
       "      <td>1.0</td>\n",
       "      <td>3.0</td>\n",
       "      <td>0.0</td>\n",
       "      <td>0.0</td>\n",
       "      <td>0.0</td>\n",
       "      <td>0.0</td>\n",
       "      <td>7.0</td>\n",
       "      <td>6.0</td>\n",
       "      <td>1.0</td>\n",
       "    </tr>\n",
       "    <tr>\n",
       "      <th>2</th>\n",
       "      <td>0.0</td>\n",
       "      <td>1.0</td>\n",
       "      <td>1.0</td>\n",
       "      <td>1.0</td>\n",
       "      <td>28.0</td>\n",
       "      <td>0.0</td>\n",
       "      <td>0.0</td>\n",
       "      <td>0.0</td>\n",
       "      <td>0.0</td>\n",
       "      <td>1.0</td>\n",
       "      <td>...</td>\n",
       "      <td>1.0</td>\n",
       "      <td>1.0</td>\n",
       "      <td>5.0</td>\n",
       "      <td>30.0</td>\n",
       "      <td>30.0</td>\n",
       "      <td>1.0</td>\n",
       "      <td>0.0</td>\n",
       "      <td>9.0</td>\n",
       "      <td>4.0</td>\n",
       "      <td>8.0</td>\n",
       "    </tr>\n",
       "    <tr>\n",
       "      <th>3</th>\n",
       "      <td>0.0</td>\n",
       "      <td>1.0</td>\n",
       "      <td>0.0</td>\n",
       "      <td>1.0</td>\n",
       "      <td>27.0</td>\n",
       "      <td>0.0</td>\n",
       "      <td>0.0</td>\n",
       "      <td>0.0</td>\n",
       "      <td>1.0</td>\n",
       "      <td>1.0</td>\n",
       "      <td>...</td>\n",
       "      <td>1.0</td>\n",
       "      <td>0.0</td>\n",
       "      <td>2.0</td>\n",
       "      <td>0.0</td>\n",
       "      <td>0.0</td>\n",
       "      <td>0.0</td>\n",
       "      <td>0.0</td>\n",
       "      <td>11.0</td>\n",
       "      <td>3.0</td>\n",
       "      <td>6.0</td>\n",
       "    </tr>\n",
       "    <tr>\n",
       "      <th>4</th>\n",
       "      <td>0.0</td>\n",
       "      <td>1.0</td>\n",
       "      <td>1.0</td>\n",
       "      <td>1.0</td>\n",
       "      <td>24.0</td>\n",
       "      <td>0.0</td>\n",
       "      <td>0.0</td>\n",
       "      <td>0.0</td>\n",
       "      <td>1.0</td>\n",
       "      <td>1.0</td>\n",
       "      <td>...</td>\n",
       "      <td>1.0</td>\n",
       "      <td>0.0</td>\n",
       "      <td>2.0</td>\n",
       "      <td>3.0</td>\n",
       "      <td>0.0</td>\n",
       "      <td>0.0</td>\n",
       "      <td>0.0</td>\n",
       "      <td>11.0</td>\n",
       "      <td>5.0</td>\n",
       "      <td>4.0</td>\n",
       "    </tr>\n",
       "  </tbody>\n",
       "</table>\n",
       "<p>5 rows × 22 columns</p>\n",
       "</div>"
      ],
      "text/plain": [
       "   HeartDiseaseorAttack  HighBP  HighChol  CholCheck   BMI  Smoker  Stroke  \\\n",
       "0                   0.0     1.0       1.0        1.0  40.0     1.0     0.0   \n",
       "1                   0.0     0.0       0.0        0.0  25.0     1.0     0.0   \n",
       "2                   0.0     1.0       1.0        1.0  28.0     0.0     0.0   \n",
       "3                   0.0     1.0       0.0        1.0  27.0     0.0     0.0   \n",
       "4                   0.0     1.0       1.0        1.0  24.0     0.0     0.0   \n",
       "\n",
       "   Diabetes  PhysActivity  Fruits  ...  AnyHealthcare  NoDocbcCost  GenHlth  \\\n",
       "0       0.0           0.0     0.0  ...            1.0          0.0      5.0   \n",
       "1       0.0           1.0     0.0  ...            0.0          1.0      3.0   \n",
       "2       0.0           0.0     1.0  ...            1.0          1.0      5.0   \n",
       "3       0.0           1.0     1.0  ...            1.0          0.0      2.0   \n",
       "4       0.0           1.0     1.0  ...            1.0          0.0      2.0   \n",
       "\n",
       "   MentHlth  PhysHlth  DiffWalk  Sex   Age  Education  Income  \n",
       "0      18.0      15.0       1.0  0.0   9.0        4.0     3.0  \n",
       "1       0.0       0.0       0.0  0.0   7.0        6.0     1.0  \n",
       "2      30.0      30.0       1.0  0.0   9.0        4.0     8.0  \n",
       "3       0.0       0.0       0.0  0.0  11.0        3.0     6.0  \n",
       "4       3.0       0.0       0.0  0.0  11.0        5.0     4.0  \n",
       "\n",
       "[5 rows x 22 columns]"
      ]
     },
     "execution_count": 3,
     "metadata": {},
     "output_type": "execute_result"
    }
   ],
   "source": [
    "df.head()"
   ]
  },
  {
   "cell_type": "code",
   "execution_count": 4,
   "metadata": {},
   "outputs": [],
   "source": [
    "numerical_features = ['MentHlth', 'PhysHlth', 'BMI']\n",
    "target = 'HeartDiseaseorAttack'\n",
    "categorical_features = [feat for feat in list(df.columns) if feat != target and feat not in numerical_features]"
   ]
  },
  {
   "cell_type": "markdown",
   "metadata": {},
   "source": [
    "Пайплайн обработки данных тот же."
   ]
  },
  {
   "cell_type": "code",
   "execution_count": 5,
   "metadata": {},
   "outputs": [],
   "source": [
    "from sklearn.pipeline import Pipeline\n",
    "from sklearn.compose import ColumnTransformer\n",
    "from sklearn.preprocessing import OneHotEncoder, StandardScaler, MinMaxScaler\n",
    "from sklearn.base import TransformerMixin"
   ]
  },
  {
   "cell_type": "code",
   "execution_count": 6,
   "metadata": {},
   "outputs": [],
   "source": [
    "data_preprocessing = ColumnTransformer([\n",
    "    ('ohe', OneHotEncoder(drop='if_binary'), categorical_features),\n",
    "    ('stdscale', StandardScaler(), ['BMI']),\n",
    "    ('minmax', MinMaxScaler(), [feat for feat in numerical_features if feat != 'BMI'])\n",
    "])"
   ]
  },
  {
   "cell_type": "code",
   "execution_count": 7,
   "metadata": {},
   "outputs": [],
   "source": [
    "class ToArrayTransformer(TransformerMixin):\n",
    "    def fit(self, X, y=None, **fit_params):\n",
    "        return self\n",
    "\n",
    "    def transform(self, X, y=None, **fit_params):\n",
    "        return X.toarray()"
   ]
  },
  {
   "cell_type": "markdown",
   "metadata": {},
   "source": [
    "Делим на трейн и тест."
   ]
  },
  {
   "cell_type": "code",
   "execution_count": 8,
   "metadata": {},
   "outputs": [],
   "source": [
    "from sklearn.model_selection import train_test_split"
   ]
  },
  {
   "cell_type": "code",
   "execution_count": 9,
   "metadata": {},
   "outputs": [],
   "source": [
    "X = df.drop(target, axis=1)\n",
    "y = df[target]\n",
    "assert len(X) == len(y)"
   ]
  },
  {
   "cell_type": "code",
   "execution_count": 10,
   "metadata": {},
   "outputs": [],
   "source": [
    "X_train, X_test, y_train, y_test = train_test_split(X, y, train_size=0.8, shuffle=True, random_state=0xDEAD)"
   ]
  },
  {
   "cell_type": "code",
   "execution_count": 11,
   "metadata": {},
   "outputs": [
    {
     "data": {
      "text/plain": [
       "((202944, 21), (50736, 21))"
      ]
     },
     "execution_count": 11,
     "metadata": {},
     "output_type": "execute_result"
    }
   ],
   "source": [
    "X_train.shape, X_test.shape"
   ]
  },
  {
   "cell_type": "markdown",
   "metadata": {},
   "source": [
    "## Подсчет метрик"
   ]
  },
  {
   "cell_type": "code",
   "execution_count": 12,
   "metadata": {},
   "outputs": [],
   "source": [
    "from sklearn.metrics import accuracy_score, precision_score, recall_score, roc_auc_score, confusion_matrix\n",
    "from sklearn.metrics import precision_recall_curve\n",
    "\n",
    "import matplotlib.pyplot as plt"
   ]
  },
  {
   "cell_type": "code",
   "execution_count": 13,
   "metadata": {},
   "outputs": [],
   "source": [
    "def get_metrics(model, X, y_true, threshold=0.5, use_probas=True):\n",
    "    \n",
    "    if use_probas:\n",
    "        y_pred_probas = model.predict_proba(X)\n",
    "        if len(y_pred_probas.shape) == 2:\n",
    "            y_pred_probas = y_pred_probas[:, 1] \n",
    "        y_pred = y_pred_probas > threshold\n",
    "    else:\n",
    "        y_pred = model.predict(X)\n",
    "    \n",
    "    print('Accuracy = ', accuracy_score(y_true, y_pred))\n",
    "    print('Precision = ', precision_score(y_true, y_pred))\n",
    "    print('Recall = ', recall_score(y_true, y_pred))\n",
    "    if use_probas:\n",
    "        print('ROC AUC = ', roc_auc_score(y_true, y_pred_probas))\n",
    "    print('Confusion matrix:')\n",
    "    print(confusion_matrix(y_true, y_pred))\n",
    "    \n",
    "    if use_probas:\n",
    "        precision, recall, thresholds = precision_recall_curve(y_true, y_pred_probas)\n",
    "        plt.figure(figsize=(15, 8))\n",
    "        plt.xlabel('Recall')\n",
    "        plt.ylabel('Presicion')\n",
    "        plt.title('Precision-recall curve')\n",
    "        plt.xticks(np.arange(0, 1.1, 0.1))\n",
    "        plt.yticks(np.arange(0, 1.1, 0.1))\n",
    "        plt.grid()\n",
    "        plt.plot(recall, precision)"
   ]
  },
  {
   "cell_type": "markdown",
   "metadata": {},
   "source": [
    "Помним про то, что у нас очень несбалансированные классы (91% vs 9%). Поэтому трешхолд 0.5 не всегда будет оптимален для нашей задачи. Поэтому будем строить дополнительно precison-recall кривую, чтобы оценить зависимость пресижена от реколла.\n",
    "\n",
    "Также учитываем, что в этой задаче нам важно не упустить больных пациентов, поэтому будем стремиться максимизировать реколл.\n",
    "\n",
    "Установим отметку реколла = 0.7 и будем сравнивать модели при таком реколле."
   ]
  },
  {
   "cell_type": "markdown",
   "metadata": {},
   "source": [
    "## Decision tree"
   ]
  },
  {
   "cell_type": "code",
   "execution_count": 14,
   "metadata": {},
   "outputs": [],
   "source": [
    "import numpy as np\n",
    "from sklearn.base import BaseEstimator, ClassifierMixin\n",
    "from sklearn.utils.validation import check_X_y, check_is_fitted, check_array\n",
    "from sklearn.utils.multiclass import unique_labels\n",
    "from sklearn.model_selection import GridSearchCV"
   ]
  },
  {
   "cell_type": "markdown",
   "metadata": {},
   "source": [
    "Сначала опишем вспомогательный класс для вершины дерева"
   ]
  },
  {
   "cell_type": "code",
   "execution_count": 123,
   "metadata": {},
   "outputs": [],
   "source": [
    "class Node:\n",
    "    def __init__(self, probability):\n",
    "        self.probability = probability # вероятность единички при попадании в эту вершину\n",
    "        self.feature_index = 0  # по какой фиче разбиваем\n",
    "        self.threshold = 0  # по какому порогу фичи разбиваем\n",
    "        self.left = None  # левое поддерево\n",
    "        self.right = None  # правое поддерево"
   ]
  },
  {
   "cell_type": "code",
   "execution_count": 151,
   "metadata": {},
   "outputs": [],
   "source": [
    "class MyDecisionTree(BaseEstimator, ClassifierMixin):\n",
    "    def __init__(self, max_depth=10):\n",
    "        self.max_depth = max_depth\n",
    "    \n",
    "    def fit(self, X, y, random_features=False):\n",
    "        X, y = check_X_y(X, y)\n",
    "        self.n_classes = len(set(y))\n",
    "        self.n_features = X.shape[1]\n",
    "        # self.weights = np.array([np.sum(y == i) for i in range(1, -1, -1)]) / len(y)\n",
    "        self.weights = np.array([10, 1])\n",
    "        self.tree = self._build_tree(X, y, random_features)\n",
    "    \n",
    "    def _build_tree(self, X, y, depth=0, random_features=False):\n",
    "        num_samples_per_class = [np.sum(y == i) for i in range(2)]\n",
    "        proba = num_samples_per_class[1] / sum(num_samples_per_class)\n",
    "        node = Node(probability=proba)\n",
    "        if depth < self.max_depth:\n",
    "            feature_id, threshold = self._get_best_split(X, y, random_features) # ищем лучший сплит\n",
    "            if feature_id is not None:\n",
    "                # None может быть только если мы в листе\n",
    "                indices_left = X[:, feature_id] < threshold\n",
    "                indices_right = X[:, feature_id] >= threshold\n",
    "                X_left, y_left = X[indices_left], y[indices_left] # в одну сторону идет все что меньше порога\n",
    "                X_right, y_right = X[indices_right], y[indices_right] # в другую сторону все остальное\n",
    "                node.feature_index = feature_id\n",
    "                node.threshold = threshold\n",
    "                node.left = self._build_tree(X_left, y_left, depth + 1) # рекурсивно строим дерево дальше\n",
    "                node.right = self._build_tree(X_right, y_right, depth + 1)\n",
    "        return node\n",
    "    \n",
    "    def _get_best_split(self, X, y, random_features=False):\n",
    "        m = y.size\n",
    "        if m <= 1:\n",
    "            # в вершине остались только элементы одного класса -> это лист\n",
    "            return None, None\n",
    "\n",
    "        num_parent = [np.sum(y == c) for c in range(self.n_classes)]\n",
    "        best_gini = 1.0 - sum((self.weights[i] * num_parent[i] / m) ** 2 for i in range(self.n_classes))\n",
    "        best_feature_id, best_threshold = None, None\n",
    "        \n",
    "        features = list(range(self.n_features))\n",
    "        if random_features is True:\n",
    "            features = np.array(random.shuffle(features))\n",
    "            feat_num = int(np.ceil(np.sqrt(self.n_features)))\n",
    "            features = np.resize(features, feat_num)\n",
    "\n",
    "        for feature_id in features:\n",
    "            # смотрим каждую фичу\n",
    "            thresholds, classes = zip(*sorted(zip(X[:, feature_id], y)))\n",
    "            num_left = [0] * self.n_classes\n",
    "            num_right = num_parent.copy()\n",
    "            for i in range(1, m):\n",
    "                if thresholds[i] == thresholds[i - 1]:\n",
    "                    continue\n",
    "                \n",
    "                # смотрим все возможные разбиения и ищем лучшее по критерию Джини\n",
    "                c = int(classes[i - 1])\n",
    "                num_left[c] += 1\n",
    "                num_right[c] -= 1\n",
    "                gini_left = 1.0 - sum((self.weights[x] * num_left[x] / i) ** 2 for x in range(self.n_classes))\n",
    "                gini_right = 1.0 - sum((self.weights[x] * num_right[x] / (m - i)) ** 2 for x in range(self.n_classes))\n",
    "                gini = (i * gini_left + (m - i) * gini_right) / m\n",
    "                \n",
    "                if gini < best_gini:\n",
    "                    best_gini = gini\n",
    "                    best_feature_id = feature_id\n",
    "                    best_threshold = (thresholds[i] + thresholds[i-1]) / 2\n",
    "        return best_feature_id, best_threshold\n",
    "    \n",
    "    def predict(self, X, threshold=0.5):\n",
    "        return np.array(self.predict_proba(X)) > threshold\n",
    "    \n",
    "    def predict_proba(self, X):\n",
    "        X = check_array(X)\n",
    "        res = np.zeros(X.shape[0])\n",
    "        for i in range(X.shape[0]):\n",
    "            node = self.tree\n",
    "            while node.left:\n",
    "                if X[i][node.feature_index] < node.threshold:\n",
    "                    node = node.left\n",
    "                else:\n",
    "                    node = node.right\n",
    "            res[i] = node.probability\n",
    "        return res"
   ]
  },
  {
   "cell_type": "code",
   "execution_count": 155,
   "metadata": {},
   "outputs": [],
   "source": [
    "dt_my = Pipeline(\n",
    "    steps=[\n",
    "        ('preprocessing', data_preprocessing),\n",
    "        ('to_array', ToArrayTransformer()),\n",
    "        ('decision_tree', MyDecisionTree(max_depth=10))\n",
    "    ]\n",
    ")"
   ]
  },
  {
   "cell_type": "code",
   "execution_count": 156,
   "metadata": {},
   "outputs": [
    {
     "data": {
      "text/plain": [
       "Pipeline(steps=[('preprocessing',\n",
       "                 ColumnTransformer(transformers=[('ohe',\n",
       "                                                  OneHotEncoder(drop='if_binary'),\n",
       "                                                  ['HighBP', 'HighChol',\n",
       "                                                   'CholCheck', 'Smoker',\n",
       "                                                   'Stroke', 'Diabetes',\n",
       "                                                   'PhysActivity', 'Fruits',\n",
       "                                                   'Veggies',\n",
       "                                                   'HvyAlcoholConsump',\n",
       "                                                   'AnyHealthcare',\n",
       "                                                   'NoDocbcCost', 'GenHlth',\n",
       "                                                   'DiffWalk', 'Sex', 'Age',\n",
       "                                                   'Education', 'Income']),\n",
       "                                                 ('stdscale', StandardScaler(),\n",
       "                                                  ['BMI']),\n",
       "                                                 ('minmax', MinMaxScaler(),\n",
       "                                                  ['MentHlth', 'PhysHlth'])])),\n",
       "                ('to_array',\n",
       "                 <__main__.ToArrayTransformer object at 0x0000024C9112F790>),\n",
       "                ('decision_tree', MyDecisionTree())])"
      ]
     },
     "execution_count": 156,
     "metadata": {},
     "output_type": "execute_result"
    }
   ],
   "source": [
    "dt_my.fit(X_train, y_train)"
   ]
  },
  {
   "cell_type": "code",
   "execution_count": 45,
   "metadata": {},
   "outputs": [],
   "source": [
    "dt_my_gs = GridSearchCV(dt_my, {'decision_tree__max_depth': [1, 3, 5, 7]})\n",
    "dt_my_gs.fit(X_train, y_train);"
   ]
  },
  {
   "cell_type": "code",
   "execution_count": 46,
   "metadata": {},
   "outputs": [
    {
     "data": {
      "text/plain": [
       "{'decision_tree__max_depth': 5}"
      ]
     },
     "execution_count": 46,
     "metadata": {},
     "output_type": "execute_result"
    }
   ],
   "source": [
    "dt_my_gs.best_params_"
   ]
  },
  {
   "cell_type": "code",
   "execution_count": 157,
   "metadata": {},
   "outputs": [
    {
     "name": "stdout",
     "output_type": "stream",
     "text": [
      "Accuracy =  0.9043479974771366\n",
      "Precision =  0.0\n",
      "Recall =  0.0\n",
      "ROC AUC =  0.5001149592541569\n",
      "Confusion matrix:\n",
      "[[45883     0]\n",
      " [ 4853     0]]\n"
     ]
    },
    {
     "name": "stderr",
     "output_type": "stream",
     "text": [
      "C:\\Users\\moise\\anaconda3\\lib\\site-packages\\sklearn\\metrics\\_classification.py:1221: UndefinedMetricWarning: Precision is ill-defined and being set to 0.0 due to no predicted samples. Use `zero_division` parameter to control this behavior.\n",
      "  _warn_prf(average, modifier, msg_start, len(result))\n"
     ]
    },
    {
     "data": {
      "image/png": "[encoded data removed]",
      "text/plain": [
       "<Figure size 1080x576 with 1 Axes>"
      ]
     },
     "metadata": {
      "needs_background": "light"
     },
     "output_type": "display_data"
    }
   ],
   "source": [
    "get_metrics(dt_my, X_test, y_test, threshold=0.85)"
   ]
  },
  {
   "cell_type": "markdown",
   "metadata": {},
   "source": [
    "Из-за несбалансированности классов дерево не смогло обнаружить единички - нужно добавлять веса к классам\n",
    "\n",
    "*но времени не хватает на это :(*"
   ]
  },
  {
   "cell_type": "code",
   "execution_count": 48,
   "metadata": {},
   "outputs": [],
   "source": [
    "f = open(\"tree.pkl\", \"wb\")\n",
    "pickle.dump(dt_my_gs, f, pickle.HIGHEST_PROTOCOL)\n",
    "f.close()"
   ]
  },
  {
   "cell_type": "markdown",
   "metadata": {},
   "source": [
    "Sklearn:"
   ]
  },
  {
   "cell_type": "code",
   "execution_count": 51,
   "metadata": {},
   "outputs": [],
   "source": [
    "from sklearn.tree import DecisionTreeClassifier\n",
    "\n",
    "dt_sk = Pipeline(\n",
    "    steps=[\n",
    "        ('preprocessing', data_preprocessing),\n",
    "        ('to_array', ToArrayTransformer()),\n",
    "        ('decision_tree', DecisionTreeClassifier(class_weight='balanced'))\n",
    "    ]\n",
    ")"
   ]
  },
  {
   "cell_type": "code",
   "execution_count": 52,
   "metadata": {},
   "outputs": [],
   "source": [
    "dt_sk_gs = GridSearchCV(dt_sk, {'decision_tree__criterion': ['gini', 'entropy'],\n",
    "                               'decision_tree__max_depth': [1, 3, 5, 7],\n",
    "                               'decision_tree__min_samples_split': [2, 3, 4],\n",
    "                               'decision_tree__min_samples_leaf': [1, 2, 3]})\n",
    "dt_sk_gs.fit(X_train, y_train);"
   ]
  },
  {
   "cell_type": "code",
   "execution_count": 53,
   "metadata": {},
   "outputs": [
    {
     "data": {
      "text/plain": [
       "{'decision_tree__criterion': 'gini',\n",
       " 'decision_tree__max_depth': 5,\n",
       " 'decision_tree__min_samples_leaf': 1,\n",
       " 'decision_tree__min_samples_split': 2}"
      ]
     },
     "execution_count": 53,
     "metadata": {},
     "output_type": "execute_result"
    }
   ],
   "source": [
    "dt_sk_gs.best_params_"
   ]
  },
  {
   "cell_type": "code",
   "execution_count": 65,
   "metadata": {},
   "outputs": [
    {
     "name": "stdout",
     "output_type": "stream",
     "text": [
      "Accuracy =  0.7291666666666666\n",
      "Precision =  0.22225\n",
      "Recall =  0.7327426334226251\n",
      "ROC AUC =  0.7919516365097423\n",
      "Confusion matrix:\n",
      "[[33439 12444]\n",
      " [ 1297  3556]]\n"
     ]
    },
    {
     "data": {
      "image/png": "[encoded data removed]",
      "text/plain": [
       "<Figure size 1080x576 with 1 Axes>"
      ]
     },
     "metadata": {
      "needs_background": "light"
     },
     "output_type": "display_data"
    }
   ],
   "source": [
    "get_metrics(dt_sk_gs, X_test, y_test, threshold=0.55)"
   ]
  },
  {
   "cell_type": "code",
   "execution_count": 55,
   "metadata": {},
   "outputs": [],
   "source": [
    "f = open(\"tree_sklearn.pkl\", \"wb\")\n",
    "pickle.dump(dt_sk_gs, f, pickle.HIGHEST_PROTOCOL)\n",
    "f.close()"
   ]
  },
  {
   "cell_type": "markdown",
   "metadata": {},
   "source": [
    "### Random Forest"
   ]
  },
  {
   "cell_type": "code",
   "execution_count": 114,
   "metadata": {},
   "outputs": [],
   "source": [
    "class MyRandomForest(BaseEstimator, ClassifierMixin):\n",
    "    def __init__(self, n_estimators=10):\n",
    "        self.n_estimators = n_estimators\n",
    "        self.trees = []\n",
    "    \n",
    "    def fit(self, X, y):\n",
    "        X, y = check_X_y(X, y)\n",
    "        for i in range(self.n_estimators):\n",
    "            tree = MyDecisionTree()\n",
    "            X_sample, y_sample = self._data_bagging(X, y)\n",
    "            tree.fit(X_sample, y_sample, random_features=True)\n",
    "            self.trees.append(tree)\n",
    "    \n",
    "    def _data_bagging(self, X,y):\n",
    "        x_size = len(X)\n",
    "        x_sample = []\n",
    "        y_sample = []\n",
    "        while len(x_sample) < x_size:\n",
    "            ind = random.randrange(x_size)\n",
    "            x_sample.append(X[ind])\n",
    "            y_sample.append(y[ind])\n",
    "        x_sample = np.array(x_sample)\n",
    "        y_sample = np.array(y_sample)\n",
    "        return x_sample, y_sample\n",
    "    \n",
    "    def predict(self, X, threshold=0.5):\n",
    "        return np.array(self.predict_proba(X)) > threshold\n",
    "    \n",
    "    def predict_proba(self, X):\n",
    "        X = check_array(X)\n",
    "        res = np.zeros(X.shape[0])\n",
    "        for i in range(X.shape[0]):\n",
    "            for tree in self.trees:\n",
    "                node = tree.tree\n",
    "                while node.left:\n",
    "                    if X[i][node.feature_index] < node.threshold:\n",
    "                        node = node.left\n",
    "                    else:\n",
    "                        node = node.right\n",
    "                res[i] += node.probability\n",
    "        return res / len(self.trees)"
   ]
  },
  {
   "cell_type": "code",
   "execution_count": 119,
   "metadata": {},
   "outputs": [],
   "source": [
    "rf_my = Pipeline(\n",
    "    steps=[\n",
    "        ('preprocessing', data_preprocessing),\n",
    "        ('to_array', ToArrayTransformer()),\n",
    "        ('random_forest', MyRandomForest(n_estimators=5))\n",
    "    ]\n",
    ")"
   ]
  },
  {
   "cell_type": "code",
   "execution_count": 120,
   "metadata": {},
   "outputs": [],
   "source": [
    "rf_my.fit(X_train, y_train);"
   ]
  },
  {
   "cell_type": "code",
   "execution_count": 121,
   "metadata": {},
   "outputs": [
    {
     "name": "stdout",
     "output_type": "stream",
     "text": [
      "Accuracy =  0.9043479974771366\n",
      "Precision =  0.0\n",
      "Recall =  0.0\n",
      "ROC AUC =  0.5003535542715349\n",
      "Confusion matrix:\n"
     ]
    },
    {
     "name": "stderr",
     "output_type": "stream",
     "text": [
      "C:\\Users\\moise\\anaconda3\\lib\\site-packages\\sklearn\\metrics\\_classification.py:1221: UndefinedMetricWarning: Precision is ill-defined and being set to 0.0 due to no predicted samples. Use `zero_division` parameter to control this behavior.\n",
      "  _warn_prf(average, modifier, msg_start, len(result))\n"
     ]
    },
    {
     "name": "stdout",
     "output_type": "stream",
     "text": [
      "[[45883     0]\n",
      " [ 4853     0]]\n"
     ]
    },
    {
     "data": {
      "image/png": "[encoded data removed]",
      "text/plain": [
       "<Figure size 1080x576 with 1 Axes>"
      ]
     },
     "metadata": {
      "needs_background": "light"
     },
     "output_type": "display_data"
    }
   ],
   "source": [
    "get_metrics(rf_my, X_test, y_test, threshold=0.55)"
   ]
  },
  {
   "cell_type": "code",
   "execution_count": 122,
   "metadata": {},
   "outputs": [],
   "source": [
    "f = open(\"random_forest.pkl\", \"wb\")\n",
    "pickle.dump(rf_my, f, pickle.HIGHEST_PROTOCOL)\n",
    "f.close()"
   ]
  },
  {
   "cell_type": "markdown",
   "metadata": {},
   "source": [
    "Sklearn:"
   ]
  },
  {
   "cell_type": "code",
   "execution_count": 77,
   "metadata": {},
   "outputs": [],
   "source": [
    "from sklearn.ensemble import RandomForestClassifier\n",
    "\n",
    "rf_sk = Pipeline(\n",
    "    steps=[\n",
    "        ('preprocessing', data_preprocessing),\n",
    "        ('to_array', ToArrayTransformer()),\n",
    "        ('random_forest', RandomForestClassifier(class_weight='balanced'))\n",
    "    ]\n",
    ")"
   ]
  },
  {
   "cell_type": "code",
   "execution_count": 78,
   "metadata": {},
   "outputs": [],
   "source": [
    "rf_sk_gs = GridSearchCV(rf_sk, {'random_forest__n_estimators': [50, 100, 200]})\n",
    "rf_sk_gs.fit(X_train, y_train);"
   ]
  },
  {
   "cell_type": "code",
   "execution_count": 79,
   "metadata": {},
   "outputs": [
    {
     "data": {
      "text/plain": [
       "{'random_forest__n_estimators': 200}"
      ]
     },
     "execution_count": 79,
     "metadata": {},
     "output_type": "execute_result"
    }
   ],
   "source": [
    "rf_sk_gs.best_params_"
   ]
  },
  {
   "cell_type": "code",
   "execution_count": 80,
   "metadata": {},
   "outputs": [
    {
     "name": "stdout",
     "output_type": "stream",
     "text": [
      "Accuracy =  0.9001695048880479\n",
      "Precision =  0.38402625820568925\n",
      "Recall =  0.07232639604368432\n",
      "ROC AUC =  0.8139582701859442\n",
      "Confusion matrix:\n",
      "[[45320   563]\n",
      " [ 4502   351]]\n"
     ]
    },
    {
     "data": {
      "image/png": "[encoded data removed]",
      "text/plain": [
       "<Figure size 1080x576 with 1 Axes>"
      ]
     },
     "metadata": {
      "needs_background": "light"
     },
     "output_type": "display_data"
    }
   ],
   "source": [
    "get_metrics(rf_sk_gs, X_test, y_test, threshold=0.55)"
   ]
  },
  {
   "cell_type": "code",
   "execution_count": 81,
   "metadata": {},
   "outputs": [],
   "source": [
    "f = open(\"random_forest_sklearn.pkl\", \"wb\")\n",
    "pickle.dump(rf_sk_gs, f, pickle.HIGHEST_PROTOCOL)\n",
    "f.close()"
   ]
  },
  {
   "cell_type": "markdown",
   "metadata": {},
   "source": [
    "### Градиентный бустинг\n",
    "\n",
    "Воспользуемся библиотекой Catboost"
   ]
  },
  {
   "cell_type": "code",
   "execution_count": 108,
   "metadata": {},
   "outputs": [],
   "source": [
    "import catboost"
   ]
  },
  {
   "cell_type": "code",
   "execution_count": 109,
   "metadata": {},
   "outputs": [],
   "source": [
    "X_train_cb, y_train_cb = check_X_y(X_train, y_train)\n",
    "X_test_cb, y_test_cb = check_X_y(X_test, y_test)\n",
    "eval_dataset = catboost.Pool(data=X_test, label=y_test)"
   ]
  },
  {
   "cell_type": "code",
   "execution_count": 110,
   "metadata": {},
   "outputs": [],
   "source": [
    "cb = catboost.CatBoostClassifier(iterations=2000,\n",
    "                        learning_rate=0.05,\n",
    "                        loss_function='Logloss',\n",
    "                        auto_class_weights='Balanced',\n",
    "                        use_best_model=True,\n",
    "                        verbose=50)"
   ]
  },
  {
   "cell_type": "code",
   "execution_count": 111,
   "metadata": {},
   "outputs": [
    {
     "name": "stdout",
     "output_type": "stream",
     "text": [
      "0:\tlearn: 0.6734310\ttest: 0.6733318\tbest: 0.6733318 (0)\ttotal: 75.6ms\tremaining: 2m 31s\n",
      "50:\tlearn: 0.4825060\ttest: 0.4818779\tbest: 0.4818779 (50)\ttotal: 3.06s\tremaining: 1m 56s\n",
      "100:\tlearn: 0.4741846\ttest: 0.4746807\tbest: 0.4746807 (100)\ttotal: 6.03s\tremaining: 1m 53s\n",
      "150:\tlearn: 0.4712003\ttest: 0.4735159\tbest: 0.4735156 (149)\ttotal: 8.82s\tremaining: 1m 48s\n",
      "200:\tlearn: 0.4691841\ttest: 0.4733569\tbest: 0.4733393 (171)\ttotal: 11.8s\tremaining: 1m 45s\n",
      "250:\tlearn: 0.4669880\ttest: 0.4732337\tbest: 0.4730735 (238)\ttotal: 14.8s\tremaining: 1m 42s\n",
      "300:\tlearn: 0.4644620\ttest: 0.4732802\tbest: 0.4730735 (238)\ttotal: 17.6s\tremaining: 1m 39s\n",
      "350:\tlearn: 0.4623253\ttest: 0.4735863\tbest: 0.4730735 (238)\ttotal: 21.1s\tremaining: 1m 38s\n",
      "400:\tlearn: 0.4602719\ttest: 0.4739562\tbest: 0.4730735 (238)\ttotal: 24.1s\tremaining: 1m 36s\n",
      "450:\tlearn: 0.4583752\ttest: 0.4744086\tbest: 0.4730735 (238)\ttotal: 27s\tremaining: 1m 32s\n",
      "500:\tlearn: 0.4565698\ttest: 0.4749440\tbest: 0.4730735 (238)\ttotal: 29.8s\tremaining: 1m 29s\n",
      "550:\tlearn: 0.4547677\ttest: 0.4757237\tbest: 0.4730735 (238)\ttotal: 32.7s\tremaining: 1m 26s\n",
      "600:\tlearn: 0.4531445\ttest: 0.4760958\tbest: 0.4730735 (238)\ttotal: 36.4s\tremaining: 1m 24s\n",
      "650:\tlearn: 0.4514330\ttest: 0.4765213\tbest: 0.4730735 (238)\ttotal: 39.6s\tremaining: 1m 22s\n",
      "700:\tlearn: 0.4498348\ttest: 0.4770098\tbest: 0.4730735 (238)\ttotal: 42.6s\tremaining: 1m 18s\n",
      "750:\tlearn: 0.4482215\ttest: 0.4777592\tbest: 0.4730735 (238)\ttotal: 45.5s\tremaining: 1m 15s\n",
      "800:\tlearn: 0.4466562\ttest: 0.4781544\tbest: 0.4730735 (238)\ttotal: 48.6s\tremaining: 1m 12s\n",
      "850:\tlearn: 0.4451738\ttest: 0.4787899\tbest: 0.4730735 (238)\ttotal: 51.9s\tremaining: 1m 10s\n",
      "900:\tlearn: 0.4438056\ttest: 0.4793425\tbest: 0.4730735 (238)\ttotal: 54.8s\tremaining: 1m 6s\n",
      "950:\tlearn: 0.4425217\ttest: 0.4798706\tbest: 0.4730735 (238)\ttotal: 58s\tremaining: 1m 3s\n",
      "1000:\tlearn: 0.4412289\ttest: 0.4804574\tbest: 0.4730735 (238)\ttotal: 1m 1s\tremaining: 1m 1s\n",
      "1050:\tlearn: 0.4397544\ttest: 0.4810008\tbest: 0.4730735 (238)\ttotal: 1m 3s\tremaining: 57.8s\n",
      "1100:\tlearn: 0.4384650\ttest: 0.4815521\tbest: 0.4730735 (238)\ttotal: 1m 6s\tremaining: 54.6s\n",
      "1150:\tlearn: 0.4371764\ttest: 0.4819729\tbest: 0.4730735 (238)\ttotal: 1m 9s\tremaining: 51.3s\n",
      "1200:\tlearn: 0.4359063\ttest: 0.4823949\tbest: 0.4730735 (238)\ttotal: 1m 12s\tremaining: 48.4s\n",
      "1250:\tlearn: 0.4346388\ttest: 0.4829665\tbest: 0.4730735 (238)\ttotal: 1m 15s\tremaining: 45.3s\n",
      "1300:\tlearn: 0.4335415\ttest: 0.4835388\tbest: 0.4730735 (238)\ttotal: 1m 18s\tremaining: 42.2s\n",
      "1350:\tlearn: 0.4324629\ttest: 0.4839787\tbest: 0.4730735 (238)\ttotal: 1m 21s\tremaining: 39.1s\n",
      "1400:\tlearn: 0.4313062\ttest: 0.4845515\tbest: 0.4730735 (238)\ttotal: 1m 24s\tremaining: 35.9s\n",
      "1450:\tlearn: 0.4301884\ttest: 0.4850300\tbest: 0.4730735 (238)\ttotal: 1m 26s\tremaining: 32.9s\n",
      "1500:\tlearn: 0.4291825\ttest: 0.4855516\tbest: 0.4730735 (238)\ttotal: 1m 29s\tremaining: 29.8s\n",
      "1550:\tlearn: 0.4281264\ttest: 0.4860716\tbest: 0.4730735 (238)\ttotal: 1m 32s\tremaining: 26.8s\n",
      "1600:\tlearn: 0.4271396\ttest: 0.4866104\tbest: 0.4730735 (238)\ttotal: 1m 35s\tremaining: 23.7s\n",
      "1650:\tlearn: 0.4261449\ttest: 0.4871124\tbest: 0.4730735 (238)\ttotal: 1m 37s\tremaining: 20.7s\n",
      "1700:\tlearn: 0.4252735\ttest: 0.4875715\tbest: 0.4730735 (238)\ttotal: 1m 40s\tremaining: 17.7s\n",
      "1750:\tlearn: 0.4242671\ttest: 0.4882337\tbest: 0.4730735 (238)\ttotal: 1m 43s\tremaining: 14.7s\n",
      "1800:\tlearn: 0.4233792\ttest: 0.4888008\tbest: 0.4730735 (238)\ttotal: 1m 46s\tremaining: 11.7s\n",
      "1850:\tlearn: 0.4225301\ttest: 0.4892535\tbest: 0.4730735 (238)\ttotal: 1m 48s\tremaining: 8.76s\n",
      "1900:\tlearn: 0.4216302\ttest: 0.4899141\tbest: 0.4730735 (238)\ttotal: 1m 51s\tremaining: 5.81s\n",
      "1950:\tlearn: 0.4206695\ttest: 0.4903321\tbest: 0.4730735 (238)\ttotal: 1m 54s\tremaining: 2.87s\n",
      "1999:\tlearn: 0.4197026\ttest: 0.4908741\tbest: 0.4730735 (238)\ttotal: 1m 57s\tremaining: 0us\n",
      "\n",
      "bestTest = 0.4730734768\n",
      "bestIteration = 238\n",
      "\n",
      "Shrink model to first 239 iterations.\n"
     ]
    },
    {
     "data": {
      "text/plain": [
       "<catboost.core.CatBoostClassifier at 0x24c90be9af0>"
      ]
     },
     "execution_count": 111,
     "metadata": {},
     "output_type": "execute_result"
    }
   ],
   "source": [
    "cb.fit(X_train_cb, y_train_cb, eval_set=eval_dataset)"
   ]
  },
  {
   "cell_type": "code",
   "execution_count": 118,
   "metadata": {},
   "outputs": [
    {
     "name": "stdout",
     "output_type": "stream",
     "text": [
      "Accuracy =  0.7990184484389783\n",
      "Precision =  0.28322245659581374\n",
      "Recall =  0.7193488563774985\n",
      "ROC AUC =  0.8520637375457684\n",
      "Confusion matrix:\n",
      "[[37048  8835]\n",
      " [ 1362  3491]]\n"
     ]
    },
    {
     "data": {
      "image/png": "[encoded data removed]",
      "text/plain": [
       "<Figure size 1080x576 with 1 Axes>"
      ]
     },
     "metadata": {
      "needs_background": "light"
     },
     "output_type": "display_data"
    }
   ],
   "source": [
    "get_metrics(cb, X_test_cb, y_test_cb, threshold=0.6)"
   ]
  },
  {
   "cell_type": "markdown",
   "metadata": {},
   "source": [
    "С помощью катбуста мы получили один из наиболее хороших результатов - при реколле 0.7 имеем точность почти 0.3. При остальных реколлах точность тоже самая высокая (прошлый лидер - регрессия)."
   ]
  },
  {
   "cell_type": "code",
   "execution_count": 113,
   "metadata": {},
   "outputs": [],
   "source": [
    "f = open(\"catboost.pkl\", \"wb\")\n",
    "pickle.dump(cb, f, pickle.HIGHEST_PROTOCOL)\n",
    "f.close()"
   ]
  },
  {
   "cell_type": "code",
   "execution_count": null,
   "metadata": {},
   "outputs": [],
   "source": []
  }
 ],
 "metadata": {
  "kernelspec": {
   "display_name": "Python_3.8_conda",
   "language": "python",
   "name": "python_3.8_conda"
  },
  "language_info": {
   "codemirror_mode": {
    "name": "ipython",
    "version": 3
   },
   "file_extension": ".py",
   "mimetype": "text/x-python",
   "name": "python",
   "nbconvert_exporter": "python",
   "pygments_lexer": "ipython3",
   "version": "3.8.5"
  }
 },
 "nbformat": 4,
 "nbformat_minor": 4
}
